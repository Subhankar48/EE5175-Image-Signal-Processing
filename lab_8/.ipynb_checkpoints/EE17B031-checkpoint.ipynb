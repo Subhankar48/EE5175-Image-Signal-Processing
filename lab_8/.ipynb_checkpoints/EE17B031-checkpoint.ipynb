{
 "cells": [
  {
   "cell_type": "markdown",
   "metadata": {},
   "source": [
    "# Importing Libraries\n",
    "$\\texttt{loadmat}$ is used for reading the $\\texttt{imageFile.mat}$ file. The functions are implemented from scratch."
   ]
  },
  {
   "cell_type": "code",
   "execution_count": 1,
   "metadata": {},
   "outputs": [],
   "source": [
    "import numpy as np\n",
    "import matplotlib.pyplot as plt\n",
    "from scipy.io import loadmat"
   ]
  },
  {
   "cell_type": "markdown",
   "metadata": {},
   "source": [
    "# Markov-1 Process\n",
    "Generate the covariance for a Markov-1 process with a given parameter $\\rho$. The covariance matrix $R$ is given by\n",
    "\n",
    "$$\n",
    "R_{i,j} = \\rho^{|i-j|}\n",
    "$$"
   ]
  },
  {
   "cell_type": "code",
   "execution_count": 2,
   "metadata": {},
   "outputs": [],
   "source": [
    "def R_Markov_1_Process(n, rho):\n",
    "    x = np.arange(n)\n",
    "    y = np.arange(n)\n",
    "    X, Y = np.meshgrid(x, y)\n",
    "    return rho**(np.abs(X-Y))"
   ]
  },
  {
   "cell_type": "markdown",
   "metadata": {},
   "source": [
    "# Tridiagonal Matrix\n",
    "Generate a matrix with a tridiagonal structure for a given value of $\\alpha$. For the purpose of illustration, a $4 \\times 4$ tridiagonal matrix, $Q_{\\alpha}$, is given by\n",
    "\n",
    "$$Q_{\\alpha} = \\begin{bmatrix} 1-\\alpha & -\\alpha & 0 & 0 \\\\ -\\alpha & 1 & -\\alpha & 0 \\\\ 0 & -\\alpha & 1 & -\\alpha \\\\ 0 & 0 & -\\alpha & 1-\\alpha \\end{bmatrix}$$"
   ]
  },
  {
   "cell_type": "code",
   "execution_count": 3,
   "metadata": {},
   "outputs": [],
   "source": [
    "def tridiagonal_mat_Q(n, alpha):\n",
    "    Q = np.zeros((n, n))\n",
    "    x = np.arange(n)\n",
    "    y = np.arange(n)\n",
    "    X, Y = np.meshgrid(x, y)\n",
    "    diff = np.abs(X-Y)\n",
    "    Q[diff == 1] = -alpha\n",
    "    Q[diff == 0] = 1\n",
    "    Q[0, 0] = 1-alpha\n",
    "    Q[-1, -1] = 1-alpha\n",
    "    return Q"
   ]
  },
  {
   "cell_type": "markdown",
   "metadata": {},
   "source": [
    "# Haddamard Matrix\n",
    "Haddamard transform matrices, $H_{n}$, are of the form $N \\times N$ where $N = 2^{n}, n \\in \\{1, 2, ... \\}$. All of these matrices can be generated from a core matrix $H_{1}$.\n",
    "\n",
    "$$H_{1} = \\frac{1}{\\sqrt{2}}\\begin{bmatrix} 1 & 1 \\\\ 1 & -1 \\end{bmatrix}$$\n",
    "\n",
    "The higher order matrices can be generated from $H_{1}$ recursively as \n",
    "\n",
    "$$\n",
    "H_{n} = H_{n-1}\\otimes H_{1} = H_{1} \\otimes H_{n-1}, \\quad n \\geq 2\n",
    "$$\n",
    "\n",
    "From now on Walsh-Haddamard transform will be referred to as WHT and Haddamard matrices will be referred to as H matrixes for notational brevity."
   ]
  },
  {
   "cell_type": "code",
   "execution_count": 4,
   "metadata": {},
   "outputs": [],
   "source": [
    "def Haddamard_matrix(n):\n",
    "    H1 = np.array(([1, 1], [1, -1]))/np.sqrt(2)\n",
    "    H = H1.copy()\n",
    "    if n == 1:\n",
    "        return H1\n",
    "    else:\n",
    "        for i in range(1, n):\n",
    "            H = np.kron(H, H1)\n",
    "        return H"
   ]
  },
  {
   "cell_type": "markdown",
   "metadata": {},
   "source": [
    "# Inverse of R\n",
    "If $R$ is the covariance matrix of a Markov-1 process with parameter $\\rho$, its inverse, $R^{-1}$ satisfies\n",
    "\n",
    "$$\n",
    "\\beta^{2}R^{-1} \\approx Q_{\\alpha}\n",
    "$$\n",
    "\n",
    "where,\n",
    "$Q_{\\alpha}$ is the tridiagonal matrix with parameter $\\alpha$,\n",
    "\n",
    "$$\n",
    "\\beta^{2} = \\frac{1-\\rho^{2}}{1+\\rho^{2}}\n",
    "$$\n",
    "\n",
    "and, \n",
    "\n",
    "$$\n",
    "\\alpha = \\frac{\\rho}{1+\\rho^{2}}\n",
    "$$"
   ]
  },
  {
   "cell_type": "code",
   "execution_count": 5,
   "metadata": {},
   "outputs": [],
   "source": [
    "def get_alpha_beta(rho, return_beta_square=True):\n",
    "    alpha = rho/(1+rho**2)\n",
    "    beta_sqr = (1-rho**2)/(1+rho**2)\n",
    "    if return_beta_square:\n",
    "        return alpha, beta_sqr\n",
    "    else:\n",
    "        return alpha, np.sqrt(beta_sqr)"
   ]
  },
  {
   "cell_type": "markdown",
   "metadata": {},
   "source": [
    "# DCT Matrix\n",
    "Get the matrix to perform unitary 1D type 2 DCT on an array of length $N$. The unnormalized matrix $C$ has the form\n",
    "\n",
    "$$\n",
    "C(k, n) = 2cos\\left[\\frac{\\pi(2n+1)k}{2N}\\right], \\quad 0 \\leq k \\leq N-1, \\quad 0 \\leq n \\leq N-1\n",
    "$$\n",
    "\n",
    "However, we need to normalize this so that the transform performed it unitary. The normalizing coefficients are\n",
    "\n",
    "$$\n",
    "\\frac{1}{\\sqrt{4N}}, \\quad k = 0\n",
    "$$\n",
    "\n",
    "$$\n",
    "\\frac{1}{\\sqrt{2N}}, \\quad k \\geq 1\n",
    "$$\n",
    "\n",
    "On normalizing we get the desired matrix."
   ]
  },
  {
   "cell_type": "code",
   "execution_count": 6,
   "metadata": {},
   "outputs": [],
   "source": [
    "def DCT_mat(N):\n",
    "    n, k = np.meshgrid(np.arange(N), np.arange(N))\n",
    "    scale_factor = np.sqrt(2/N)\n",
    "    C = scale_factor*(np.cos(np.pi*(2*n+1)*k/(2*N)))\n",
    "    C[k == 0] = np.sqrt(1/N)\n",
    "    return C"
   ]
  },
  {
   "cell_type": "markdown",
   "metadata": {},
   "source": [
    "# Energy Packing Efficiency\n",
    "The energy packing effiency of a covariance matrix $R$ depends on the number of coeffieints we are using and what fraction of the energy can we pack in that. If we are using $m$ coefficients and there are total $N$ coefficients, the energy packing efficiency at $m$, $EPE_{m}$, is given by\n",
    "\n",
    "$$\n",
    "EPE_{m} = \\frac{\\Sigma_{i=1}^{m}R_{i, i}}{\\Sigma_{i=1}^{N}R_{i, i}}\n",
    "$$\n",
    "\n",
    "Clearly the energy packing efficiency will be high even with low values of $m$ if the first few coefficients contain a bulk of the energy. It is to be noted than an inherent assumption is the coefficients are in the decreasing order, i.e., \n",
    "\n",
    "$$\n",
    "R(1, 1) \\geq R(2, 2) \\dots \\geq R(N, N)\n",
    "$$"
   ]
  },
  {
   "cell_type": "code",
   "execution_count": 7,
   "metadata": {},
   "outputs": [],
   "source": [
    "def EPE_vals(R):\n",
    "    diag_vals = np.abs(np.diag(R))\n",
    "    total_energy = np.sum(diag_vals)\n",
    "    energy_packed = np.cumsum(diag_vals)\n",
    "    return energy_packed/total_energy"
   ]
  },
  {
   "cell_type": "markdown",
   "metadata": {},
   "source": [
    "# Decorrelation Efficiency\n",
    "The decorrelation efficiency measures how well the transformed data $R'$ is decorrelated compared to the original data $R$. It is defined as\n",
    "\n",
    "$$\n",
    "\\eta = 1 - \\frac{\\alpha}{\\beta}\n",
    "$$\n",
    "\n",
    "$$\n",
    "\\alpha = \\Sigma_{i, j = 1, i \\neq j}^{N}|R'_{i, j}|\n",
    "$$\n",
    "\n",
    "$$\n",
    "\\beta = \\Sigma_{i, j = 1, i \\neq j}^{N}|R_{i, j}|\n",
    "$$\n",
    "\n",
    "Clearly, for a given $R$, $\\eta$ will be high when the off-diagonal elements in $R'$ are close to zero."
   ]
  },
  {
   "cell_type": "code",
   "execution_count": 8,
   "metadata": {},
   "outputs": [],
   "source": [
    "def decorrelation_efficiency(R, R_prime):\n",
    "    n = np.shape(R)[0]\n",
    "    non_diagonal_vals = 1-np.eye(n)\n",
    "    R_ = np.abs(non_diagonal_vals*R)\n",
    "    R_prime_ = np.abs(non_diagonal_vals*R_prime)\n",
    "    alpha = np.sum(R_prime_)\n",
    "    beta = np.sum(R_)\n",
    "    eta = 1-(alpha/beta)\n",
    "    return eta"
   ]
  },
  {
   "cell_type": "markdown",
   "metadata": {},
   "source": [
    "# 2D DCT\n",
    "Perform 2D DCT using 1D DCT matrices. Given an image $U$ of the shape $m \\times n$, its 2D DCT $V$ can be calculated as \n",
    "\n",
    "$$\n",
    "V = C_{m}UC_{n}\n",
    "$$\n",
    "\n",
    "where $C_{i}$ is the 1D unitary DCT matrix of size $i \\times i$"
   ]
  },
  {
   "cell_type": "code",
   "execution_count": 9,
   "metadata": {},
   "outputs": [],
   "source": [
    "def DCT_2D(image):\n",
    "    m, n = np.shape(image)\n",
    "    A = DCT_mat(m)\n",
    "    B = DCT_mat(n)\n",
    "    return A@image@(B.T)"
   ]
  },
  {
   "cell_type": "markdown",
   "metadata": {},
   "source": [
    "# 2D WHT\n",
    "Perform 2D WHT using 1D WHT matrices. Given an image $U$ of the shape $m \\times n$, its 2D WHT $V$ can be calculated as \n",
    "\n",
    "$$\n",
    "V = H_{m}UH_{n}\n",
    "$$\n",
    "\n",
    "where $H_{i}$ is the 1D unitary H matrix of size $i \\times i$. It must be noted that $(m, n)$ must be powers of $2$ for the transform to be applied."
   ]
  },
  {
   "cell_type": "code",
   "execution_count": 10,
   "metadata": {},
   "outputs": [],
   "source": [
    "def WHT_2D(image):\n",
    "    x, y = np.shape(image)\n",
    "    n_x = int(np.ceil(np.log2(x)))\n",
    "    n_y = int(np.ceil(np.log2(y)))\n",
    "    diff_x = 2**n_x - x\n",
    "    diff_y = 2**n_y - y\n",
    "    assert diff_x == 0 and diff_y ==0, \"Image dimensions should be a power of 2\"\n",
    "    H_x = Haddamard_matrix(n_x)\n",
    "    H_y = Haddamard_matrix(n_y)\n",
    "    transform_coeffs = H_x@image@(H_y.T)\n",
    "    return transform_coeffs"
   ]
  },
  {
   "cell_type": "markdown",
   "metadata": {},
   "source": [
    "# Sorted Eigenvectors\n",
    "$\\texttt{NumPy}$'s eigenvalue function does not give the eigenvectors sorted according to decreasing eigenvalue magnitudes. Sort it as it is needed for the calculation of $SVD$."
   ]
  },
  {
   "cell_type": "code",
   "execution_count": 11,
   "metadata": {},
   "outputs": [],
   "source": [
    "def sorted_eigenvals(Matrix):\n",
    "    eigenValues, eigenVectors = np.linalg.eig(Matrix)\n",
    "    idx = eigenValues.argsort()[::-1]\n",
    "    idx = eigenValues.argsort()[::-1]\n",
    "    eigenValues = eigenValues[idx]\n",
    "    eigenVectors = eigenVectors[:, idx]\n",
    "    return eigenValues, eigenVectors"
   ]
  },
  {
   "cell_type": "markdown",
   "metadata": {},
   "source": [
    "# Singular Value Decomposition (SVD)\n",
    "Given a matrix $g$, its $SVD$ is given as\n",
    "\n",
    "$$\n",
    "g = A\\Sigma B^{T}\n",
    "$$\n",
    "\n",
    "$A$ is the matrix with the eigenvalues of $g g^{T}$ as its columns, $B$ is the matrix with the eigenvalues of $g^{T}g$, and $\\Sigma$ is the matrix of singular values. Given a matrix $g$ we perform SVD on it using the following steps \n",
    "- Perform eigen-decomposition of $gg^{T}$ and $g^{T}g$\n",
    "- Find the singular value matrix $\\Sigma$ using the eigenvalues of $gg^{T}$ and $g^{T}g$\n",
    "- Return $A, \\Sigma, B$ as defined earlier"
   ]
  },
  {
   "cell_type": "code",
   "execution_count": 12,
   "metadata": {},
   "outputs": [],
   "source": [
    "def SVD(g):\n",
    "    g = g.astype(np.float64)\n",
    "    m, n = np.shape(g)\n",
    "    limiting_dim = min(m, n)\n",
    "    sigma = np.zeros((m, n))\n",
    "    S1 = g@(g.T)\n",
    "    S2 = (g.T)@g\n",
    "    e1, v1 = sorted_eigenvals(S1)\n",
    "    e2, v2 = sorted_eigenvals(S2)\n",
    "    for i in range(limiting_dim):\n",
    "        sigma[i, i] = (np.sqrt(e1[i])+np.sqrt(e2[i]))/2\n",
    "        v = v2[:, i]\n",
    "        # This step is to ensure we have the correct pairing of the eigenvectors in the\n",
    "        # A and B matrices. This is necessary as v and -v are eigenvectors of the same matrix\n",
    "        # with the same eigenvalue\n",
    "        if np.sum((g@v-sigma[i, i]*v1[:, i])**2) > np.sum((g@v+sigma[i, i]*v1[:, i])**2):\n",
    "            v2[:, i] = -v\n",
    "    return v1, sigma, v2"
   ]
  },
  {
   "cell_type": "markdown",
   "metadata": {},
   "source": [
    "# Reconstruct Matrix\n",
    "Reconstruct a matrix $g$ from its $SVD$ matrices\n",
    "\n",
    "$$\n",
    "g = A\\Sigma B^{T}\n",
    "$$"
   ]
  },
  {
   "cell_type": "code",
   "execution_count": 13,
   "metadata": {},
   "outputs": [],
   "source": [
    "def reconstruct_SVD(A, Sigma, B):\n",
    "    return A@Sigma@(B.T)"
   ]
  },
  {
   "cell_type": "markdown",
   "metadata": {},
   "source": [
    "# Reconstruction Error\n",
    "Remove one singular value at a time from $\\Sigma$ and reconstruct the image $\\hat{g}_{k}$ where the $k$ highest singular values are removed. Compute the square of  Frobenius norm of the error between $\\hat{g}_{k}$ and the original image $g$, i.e., $||g-\\hat{g}_{k}||_{F}^{2}$"
   ]
  },
  {
   "cell_type": "code",
   "execution_count": 14,
   "metadata": {},
   "outputs": [],
   "source": [
    "def reconstruction_errors_SVD(g, A, Sigma, B):\n",
    "    g = g.astype(np.float64)\n",
    "    m, n = np.shape(g)\n",
    "    limiting_dim = min(m, n)\n",
    "    reconstruction_errors = np.zeros(limiting_dim)\n",
    "    # start with a copy of the original image\n",
    "    reconstructed_matrix = g.copy()\n",
    "    for i in range(limiting_dim):\n",
    "        # remove the contribution of the ith singular value and its vectors\n",
    "        reconstructed_matrix -= Sigma[i, i]*np.outer(A[:, i], B[:, i])\n",
    "        # get the frobenius norm\n",
    "        reconstruction_errors[i] = np.sum((reconstructed_matrix - g)**2)\n",
    "    return reconstruction_errors"
   ]
  },
  {
   "cell_type": "markdown",
   "metadata": {},
   "source": [
    "# Expected Reconstruction Error\n",
    "On removing the $k$ highest singular values and reconstructing the image, the squared of the Frobenius norm of the error between the original image $g$ and the reconstructed image $\\hat{g}_{k}$ is given by\n",
    "\n",
    "$$\n",
    "||g-\\hat{g}_{k}||_{F}^{2} = \\Sigma_{i=1}^{k}\\sigma_{i}^{2}\n",
    "$$\n",
    "\n",
    "i.e., the sum of the squares of the first $k$ singular values"
   ]
  },
  {
   "cell_type": "code",
   "execution_count": 15,
   "metadata": {},
   "outputs": [],
   "source": [
    "def theoretical_reconstruction_errors(Sigma):\n",
    "    # get the non zero entries of the Sigma matrix\n",
    "    sigma = Sigma[Sigma > 0]\n",
    "    return np.cumsum(sigma**2)"
   ]
  },
  {
   "cell_type": "markdown",
   "metadata": {},
   "source": [
    "# Print NumPy Arrays\n",
    "A function to print $\\texttt{NumPy}$ arrays in a pretty manner. Limit the printed arrays to $2$ or $3$ decimals for the sake of readability."
   ]
  },
  {
   "cell_type": "code",
   "execution_count": 16,
   "metadata": {},
   "outputs": [],
   "source": [
    "def display_mat(Mat, n_dec=3):\n",
    "    print(np.round(Mat, decimals=n_dec))"
   ]
  },
  {
   "cell_type": "markdown",
   "metadata": {},
   "source": [
    "### Reading Images\n",
    "Reading the data present. It is assumed that the file is present in the same directory as the notebook. Also, define the other parameters from the assignment PDF. Use $3$ decimals as default to print arrays."
   ]
  },
  {
   "cell_type": "code",
   "execution_count": 17,
   "metadata": {},
   "outputs": [],
   "source": [
    "g = loadmat('imageFile.mat')['g']\n",
    "n = 8\n",
    "rho = 0.91\n",
    "n_dec_for_display = 3"
   ]
  },
  {
   "cell_type": "markdown",
   "metadata": {},
   "source": [
    "# Results\n",
    "The results and inferences are shown"
   ]
  },
  {
   "cell_type": "markdown",
   "metadata": {},
   "source": [
    "### Computations\n",
    "Perform all the required computations in this cell. These will be visualized later"
   ]
  },
  {
   "cell_type": "code",
   "execution_count": 18,
   "metadata": {},
   "outputs": [],
   "source": [
    "# construct the R matrix\n",
    "R = R_Markov_1_Process(n, rho)\n",
    "# Get the 2D DCT and WHT of R\n",
    "R_DCT = DCT_2D(R)\n",
    "R_WHT = WHT_2D(R)\n",
    "# compute the energy packing and decorrelation efficiencies\n",
    "epe_R_DCT = EPE_vals(R_DCT)\n",
    "epe_R_WHT = EPE_vals(R_WHT)\n",
    "eta_R_DCT = decorrelation_efficiency(R, R_DCT)\n",
    "eta_R_WHT = decorrelation_efficiency(R, R_WHT)\n",
    "# get alpha and beta from rho\n",
    "alpha, beta_sqr = get_alpha_beta(rho, return_beta_square=True)\n",
    "# generate the tridiagonal matrix Q\n",
    "Q = tridiagonal_mat_Q(n, alpha)\n",
    "# get the scaled inverse of R\n",
    "beta_sqr_R_inv = beta_sqr*(np.linalg.inv(R))\n",
    "# Diagonalize Q and scaled inverse of R using DCT\n",
    "Q_DCT = DCT_2D(Q)\n",
    "beta_sqr_R_inv_DCT = DCT_2D(beta_sqr_R_inv)\n",
    "# get SVD matrixes of g\n",
    "A, Sigma, B = SVD(g)\n",
    "# reconstruct g using all singular values\n",
    "g_hat = reconstruct_SVD(A, Sigma, B)\n",
    "# get the theoretical and experimental reconstruction errors\n",
    "reconstruction_errors_experimental = reconstruction_errors_SVD(g, A, Sigma, B)\n",
    "reconstruction_errors_theoretical = theoretical_reconstruction_errors(Sigma)"
   ]
  },
  {
   "cell_type": "markdown",
   "metadata": {},
   "source": [
    "### Energy Packing Efficiency \n",
    "Compare the energy packing efficiency of DCT and WHT for $R$, which is the covariance matrix for a Markov-1 process with $\\rho=0.91$. Use the energy packing efficiency function as defined earlier. We can clearly see that DCT is doing a better job at packing more energy in the initial few coefficients."
   ]
  },
  {
   "cell_type": "code",
   "execution_count": 19,
   "metadata": {},
   "outputs": [
    {
     "data": {
      "image/png": "[encoded data removed]",
      "text/plain": [
       "<Figure size 576x432 with 1 Axes>"
      ]
     },
     "metadata": {
      "needs_background": "light"
     },
     "output_type": "display_data"
    }
   ],
   "source": [
    "plt.figure(figsize=(8, 6))\n",
    "plt.plot(np.arange(n)+1, epe_R_DCT, 'y')\n",
    "plt.plot(np.arange(n)+1, epe_R_WHT, 'black')\n",
    "plt.xlabel(\"Number of Coefficients (m)\")\n",
    "plt.ylabel(\"EPE\")\n",
    "plt.title(\"Energy Packing Efficiency\")\n",
    "plt.legend([\"DCT\", \"WHT\"])\n",
    "plt.grid(True)\n",
    "plt.show()"
   ]
  },
  {
   "cell_type": "markdown",
   "metadata": {},
   "source": [
    "### Decorrelation Efficiency\n",
    "Compare the decorrelation efficiency of DCT and WHT for $R$, which is the covariance matrix for a Markov-1 process with $\\rho=0.91$. Use the decorrelation efficiency function as defined earlier. We can clearly see that DCT is doing a better job at decorrelating $R$."
   ]
  },
  {
   "cell_type": "code",
   "execution_count": 20,
   "metadata": {},
   "outputs": [
    {
     "name": "stdout",
     "output_type": "stream",
     "text": [
      "Decorrelation Efficiency of R for DCT : 0.9804711989227338\n",
      "Decorrelation Efficiency of R for WHT : 0.9485667904674058\n"
     ]
    }
   ],
   "source": [
    "print(f\"Decorrelation Efficiency of R for DCT : {eta_R_DCT}\")\n",
    "print(f\"Decorrelation Efficiency of R for WHT : {eta_R_WHT}\")"
   ]
  },
  {
   "cell_type": "markdown",
   "metadata": {},
   "source": [
    "### Eigenvectors of R and DCT Basis Vectors\n",
    "We can see how close the eigenvectors of $R$ are with the DCT basis vectors by trying to diagonalize $R$ with the DCT matrix. If the eigenvectors of $R$ are exactly the same as the DCT basis vectors, we will get a purely diagonal matrix. We can see that the matrix we get is mostly diagonal with very few off-diagonal entries which are not close to zero. It can be concluded that the eigenvectors of $R$ are are close to the DCT basis vectors but not exactly the same."
   ]
  },
  {
   "cell_type": "code",
   "execution_count": 21,
   "metadata": {},
   "outputs": [
    {
     "name": "stdout",
     "output_type": "stream",
     "text": [
      "[[ 6.34  0.   -0.29  0.   -0.07 -0.   -0.02  0.  ]\n",
      " [ 0.    0.93  0.   -0.03  0.   -0.01  0.   -0.  ]\n",
      " [-0.29  0.    0.31  0.   -0.    0.   -0.   -0.  ]\n",
      " [ 0.   -0.03  0.    0.15  0.   -0.    0.   -0.  ]\n",
      " [-0.07 -0.   -0.    0.    0.09  0.   -0.   -0.  ]\n",
      " [-0.   -0.01  0.   -0.    0.    0.07  0.   -0.  ]\n",
      " [-0.02  0.   -0.    0.   -0.   -0.    0.06  0.  ]\n",
      " [ 0.   -0.   -0.   -0.   -0.   -0.   -0.    0.05]]\n"
     ]
    }
   ],
   "source": [
    "display_mat(R_DCT, n_dec=2)"
   ]
  },
  {
   "cell_type": "markdown",
   "metadata": {},
   "source": [
    "### Scaled Inverse of R\n",
    "Calculate $\\beta^{2}R^{-1}$ where $R$ is the covariance matrix for a Markov-1 process with $\\rho=0.91$. We also display $Q_{\\alpha}$, the tridiagonal matrix with parameter $\\alpha$ and compare it to $\\beta^{2}R^{-1}$. $\\alpha$ is calculated from $\\rho$ as \n",
    "\n",
    "$$\n",
    "\\alpha = \\frac{\\rho}{1+\\rho^{2}}\n",
    "$$\n",
    "\n",
    "We can see that the two matrices are almost the same to three places of decimal except for the first and the last diagonal elements. "
   ]
  },
  {
   "cell_type": "code",
   "execution_count": 22,
   "metadata": {},
   "outputs": [
    {
     "name": "stdout",
     "output_type": "stream",
     "text": [
      "[[ 0.547 -0.498  0.    -0.     0.    -0.     0.    -0.   ]\n",
      " [-0.498  1.    -0.498  0.    -0.     0.    -0.     0.   ]\n",
      " [ 0.    -0.498  1.    -0.498 -0.     0.     0.    -0.   ]\n",
      " [-0.     0.    -0.498  1.    -0.498 -0.    -0.     0.   ]\n",
      " [ 0.    -0.     0.    -0.498  1.    -0.498  0.    -0.   ]\n",
      " [-0.     0.     0.    -0.    -0.498  1.    -0.498  0.   ]\n",
      " [ 0.    -0.     0.     0.     0.    -0.498  1.    -0.498]\n",
      " [-0.     0.    -0.     0.    -0.     0.    -0.498  0.547]]\n"
     ]
    }
   ],
   "source": [
    "display_mat(beta_sqr_R_inv, n_dec_for_display)"
   ]
  },
  {
   "cell_type": "code",
   "execution_count": 23,
   "metadata": {},
   "outputs": [
    {
     "name": "stdout",
     "output_type": "stream",
     "text": [
      "[[ 0.502 -0.498  0.     0.     0.     0.     0.     0.   ]\n",
      " [-0.498  1.    -0.498  0.     0.     0.     0.     0.   ]\n",
      " [ 0.    -0.498  1.    -0.498  0.     0.     0.     0.   ]\n",
      " [ 0.     0.    -0.498  1.    -0.498  0.     0.     0.   ]\n",
      " [ 0.     0.     0.    -0.498  1.    -0.498  0.     0.   ]\n",
      " [ 0.     0.     0.     0.    -0.498  1.    -0.498  0.   ]\n",
      " [ 0.     0.     0.     0.     0.    -0.498  1.    -0.498]\n",
      " [ 0.     0.     0.     0.     0.     0.    -0.498  0.502]]\n"
     ]
    }
   ],
   "source": [
    "display_mat(Q, n_dec_for_display)"
   ]
  },
  {
   "cell_type": "markdown",
   "metadata": {},
   "source": [
    "### Diagonalizing Ability of DCT\n",
    "We know that DCT diagonalizes matrices with a tridiagonal structure, $Q_{\\alpha}$. We also try to diagonalize $\\beta^{2}R^{-1}$ as defined in the previous section using DCT. We can see that for $Q_{\\alpha}$, we get an exactly diagonal matrix as expected. For $\\beta^{2}R^{-1}$, the matrix is almost diagonal, i.e., most of the off-diagonal elements have small values."
   ]
  },
  {
   "cell_type": "code",
   "execution_count": 24,
   "metadata": {},
   "outputs": [
    {
     "name": "stdout",
     "output_type": "stream",
     "text": [
      "[[ 0.016  0.     0.015  0.     0.011 -0.     0.006  0.   ]\n",
      " [-0.     0.102 -0.     0.018  0.     0.012  0.     0.004]\n",
      " [ 0.015  0.     0.315  0.     0.015  0.     0.008  0.   ]\n",
      " [ 0.     0.018  0.     0.634  0.     0.01   0.     0.004]\n",
      " [ 0.011  0.     0.015  0.     1.011  0.     0.006 -0.   ]\n",
      " [ 0.     0.012  0.     0.01   0.     1.388 -0.     0.002]\n",
      " [ 0.006  0.     0.008  0.     0.006 -0.     1.707 -0.   ]\n",
      " [-0.     0.004  0.     0.004 -0.     0.002  0.     1.921]]\n"
     ]
    }
   ],
   "source": [
    "display_mat(beta_sqr_R_inv_DCT, n_dec_for_display)"
   ]
  },
  {
   "cell_type": "code",
   "execution_count": 25,
   "metadata": {},
   "outputs": [
    {
     "name": "stdout",
     "output_type": "stream",
     "text": [
      "[[ 0.004  0.    -0.     0.     0.    -0.    -0.     0.   ]\n",
      " [-0.     0.08  -0.     0.    -0.    -0.     0.    -0.   ]\n",
      " [-0.    -0.     0.296  0.    -0.     0.    -0.     0.   ]\n",
      " [-0.     0.     0.     0.619  0.    -0.     0.    -0.   ]\n",
      " [ 0.    -0.    -0.     0.     1.     0.    -0.    -0.   ]\n",
      " [-0.    -0.     0.    -0.     0.     1.381  0.     0.   ]\n",
      " [-0.     0.    -0.     0.    -0.     0.     1.704 -0.   ]\n",
      " [ 0.    -0.     0.    -0.    -0.     0.    -0.     1.92 ]]\n"
     ]
    }
   ],
   "source": [
    "display_mat(Q_DCT, n_dec_for_display)"
   ]
  },
  {
   "cell_type": "markdown",
   "metadata": {},
   "source": [
    "### SVD Reconstruction\n",
    "Display the given $8 \\times 8$ image $g$ and the image obtained on reconstructing $g$ using its $SVD$ matrices. We can see that the values are exactly the same.  "
   ]
  },
  {
   "cell_type": "code",
   "execution_count": 26,
   "metadata": {},
   "outputs": [
    {
     "name": "stdout",
     "output_type": "stream",
     "text": [
      "[[207 244 107 173  70 111 180 244]\n",
      " [230 246 233 193  11  97 192  86]\n",
      " [ 32  40 202 189  24 195  70 149]\n",
      " [232 247 244 100 209 202 173  57]\n",
      " [161 244 167 167 177  47 167 191]\n",
      " [ 24 123   9  43  80 124  41  65]\n",
      " [ 71 204 216 180 242 113  30 129]\n",
      " [139  36 238   8   8 164 127 178]]\n"
     ]
    }
   ],
   "source": [
    "display_mat(g, n_dec_for_display)"
   ]
  },
  {
   "cell_type": "code",
   "execution_count": 27,
   "metadata": {},
   "outputs": [
    {
     "name": "stdout",
     "output_type": "stream",
     "text": [
      "[[207. 244. 107. 173.  70. 111. 180. 244.]\n",
      " [230. 246. 233. 193.  11.  97. 192.  86.]\n",
      " [ 32.  40. 202. 189.  24. 195.  70. 149.]\n",
      " [232. 247. 244. 100. 209. 202. 173.  57.]\n",
      " [161. 244. 167. 167. 177.  47. 167. 191.]\n",
      " [ 24. 123.   9.  43.  80. 124.  41.  65.]\n",
      " [ 71. 204. 216. 180. 242. 113.  30. 129.]\n",
      " [139.  36. 238.   8.   8. 164. 127. 178.]]\n"
     ]
    }
   ],
   "source": [
    "display_mat(g_hat, n_dec_for_display)"
   ]
  },
  {
   "cell_type": "markdown",
   "metadata": {},
   "source": [
    "### Reconstruction Errors\n",
    "Remove one singular value at a time from $\\Sigma$ and reconstruct the image $\\hat{g}_{k}$ where the $k$ highest sigular values are removed. Compute the square of  Frobenius norm of the error between $\\hat{g}_{k}$ and the original image $g$, i.e., $||g-\\hat{g}_{k}||_{F}^{2}$. On removing the $k$ highest singular values and reconstructing the image, the squared of the Frobenius norm of the error between the original image $g$ and the reconstructed image $\\hat{g}_{k}$ is given by\n",
    "\n",
    "$$\n",
    "||g-\\hat{g}_{k}||_{F}^{2} = \\Sigma_{i=1}^{k}\\sigma_{i}^{2}\n",
    "$$\n",
    "\n",
    "i.e., the sum of the squares of the first $k$ singular values. Both the theoretical and experimental values are plotted. It can be seen that the values are exactly the same."
   ]
  },
  {
   "cell_type": "code",
   "execution_count": 28,
   "metadata": {},
   "outputs": [
    {
     "data": {
      "image/png": "[encoded data removed]",
      "text/plain": [
       "<Figure size 576x432 with 1 Axes>"
      ]
     },
     "metadata": {
      "needs_background": "light"
     },
     "output_type": "display_data"
    }
   ],
   "source": [
    "plt.figure(figsize=(8, 6))\n",
    "plt.plot(np.arange(n)+1, reconstruction_errors_theoretical, 'yellow', linewidth=6)\n",
    "plt.plot(np.arange(n)+1, reconstruction_errors_experimental,\n",
    "         '-o', linewidth=2, color=\"black\")\n",
    "plt.xlabel(\"singular values removed (k)\")\n",
    "plt.ylabel(r'||g-$\\hat{g}_{k}||^{2}$')\n",
    "plt.legend([\"Expected\", \"Calculated\"])\n",
    "plt.title(\"Reconstruction Errors\")\n",
    "plt.grid(True)\n",
    "plt.show()"
   ]
  },
  {
   "cell_type": "markdown",
   "metadata": {},
   "source": [
    "# Summary\n",
    "We can summarize with the following observations.\n",
    "- DCT is better than WHT at both energy packing and decorrelation when we have covariance matrices of Markov-1 processes ($R$)\n",
    "- Eigenvectors of $R$ are close to the DCT basis vectors but not exactly the same\n",
    "- $\\beta^{2}R^{-1}$ has roughly a tridiagonal structure\n",
    "- DCT matrix exactly diagonalizes $Q_{\\alpha}$, a tridiagonal matrix with parameter $\\alpha$ and mostly diagonalizes $\\beta^{2}R^{-1}$ but not completely\n",
    "- Computing the $SVD$ for an image and reconstructing it using all the singular values gives an exact reconstruction\n",
    "- The theoretical and calculated values for reconstruction errors on removing $k$ singular values is the sum of the squares of those $k$ singular values"
   ]
  }
 ],
 "metadata": {
  "kernelspec": {
   "display_name": "Python 3",
   "language": "python",
   "name": "python3"
  },
  "language_info": {
   "codemirror_mode": {
    "name": "ipython",
    "version": 3
   },
   "file_extension": ".py",
   "mimetype": "text/x-python",
   "name": "python",
   "nbconvert_exporter": "python",
   "pygments_lexer": "ipython3",
   "version": "3.8.5"
  }
 },
 "nbformat": 4,
 "nbformat_minor": 4
}
